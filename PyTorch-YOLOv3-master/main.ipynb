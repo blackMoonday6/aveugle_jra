{
 "cells": [
  {
   "cell_type": "code",
   "execution_count": 5,
   "metadata": {
    "scrolled": true
   },
   "outputs": [
    {
     "name": "stdout",
     "output_type": "stream",
     "text": [
      "Namespace(batch_size=1, checkpoint_model=None, class_path='data/coco.names', conf_thres=0.8, image_folder='data/samples', img_size=416, model_def='config/yolov3.cfg', n_cpu=0, nms_thres=0.4, weights_path='weights/yolov3.weights')\n",
      "\n",
      "Performing object detection:\n",
      "\t+ Batch 0, Inference Time: 0:00:02.288844\n",
      "\n",
      "Saving images:\n",
      "(0) Image: 'data/samples/163534660_488456072313200_7859302568156973656_n.jpg'\n",
      "\t+ Label: cup, Conf: 0.99976\n",
      "\t+ Label: cell phone, Conf: 0.99938\n",
      "\t+ Label: person, Conf: 0.99351\n",
      "\t+ Label: diningtable, Conf: 0.99856\n"
     ]
    },
    {
     "data": {
      "text/plain": [
       "<Figure size 432x288 with 0 Axes>"
      ]
     },
     "metadata": {},
     "output_type": "display_data"
    }
   ],
   "source": [
    "%run -i \"detect.py\"  --image_folder \"data/samples\"\n",
    "# [-h] [--image_folder \"data/samples2\"] [--model_def \"config/yolov3.cfg\"]\n",
    "#                     [--weights_path \"weights/yolov3.weights\"] [--class_path \"data/coco.names\"]\n",
    "#                     [--conf_thres 0.8] [--nms_thres 0.4]\n",
    "#                     [--batch_size 1] [--n_cpu 0]\n",
    "#                     [--img_size 416] [--checkpoint_model None]"
   ]
  },
  {
   "cell_type": "code",
   "execution_count": null,
   "metadata": {},
   "outputs": [],
   "source": []
  }
 ],
 "metadata": {
  "kernelspec": {
   "display_name": "Python 3",
   "language": "python",
   "name": "python3"
  },
  "language_info": {
   "codemirror_mode": {
    "name": "ipython",
    "version": 3
   },
   "file_extension": ".py",
   "mimetype": "text/x-python",
   "name": "python",
   "nbconvert_exporter": "python",
   "pygments_lexer": "ipython3",
   "version": "3.8.5"
  }
 },
 "nbformat": 4,
 "nbformat_minor": 4
}
