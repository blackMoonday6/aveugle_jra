{
 "cells": [
  {
   "cell_type": "code",
   "execution_count": 95,
   "metadata": {},
   "outputs": [],
   "source": [
    "import torch\n",
    "import torchvision\n",
    "import matplotlib.pyplot as plt"
   ]
  },
  {
   "cell_type": "code",
   "execution_count": 96,
   "metadata": {},
   "outputs": [
    {
     "name": "stdout",
     "output_type": "stream",
     "text": [
      "tensor([-0.9900, -0.9701, -0.9503, -0.9305, -0.9106, -0.8907, -0.8709, -0.8511,\n",
      "        -0.8312, -0.8113, -0.7915, -0.7717, -0.7518, -0.7320, -0.7121, -0.6923,\n",
      "        -0.6724, -0.6525, -0.6327, -0.6129, -0.5930, -0.5732, -0.5533, -0.5335,\n",
      "        -0.5136, -0.4938, -0.4739, -0.4541, -0.4342, -0.4144, -0.3945, -0.3747,\n",
      "        -0.3548, -0.3350, -0.3151, -0.2952, -0.2754, -0.2556, -0.2357, -0.2158,\n",
      "        -0.1960, -0.1762, -0.1563, -0.1364, -0.1166, -0.0968, -0.0769, -0.0570,\n",
      "        -0.0372, -0.0174,  0.0025,  0.0223,  0.0422,  0.0620,  0.0819,  0.1018,\n",
      "         0.1216,  0.1415,  0.1613,  0.1811,  0.2010,  0.2208,  0.2407,  0.2606,\n",
      "         0.2804,  0.3002,  0.3201,  0.3399,  0.3598,  0.3796,  0.3995,  0.4194,\n",
      "         0.4392,  0.4590,  0.4789,  0.4987,  0.5186,  0.5385,  0.5583,  0.5782,\n",
      "         0.5980,  0.6178,  0.6377,  0.6575,  0.6774,  0.6973,  0.7171,  0.7370,\n",
      "         0.7568,  0.7766,  0.7965,  0.8163,  0.8362,  0.8561,  0.8759,  0.8958,\n",
      "         0.9156,  0.9354,  0.9553,  0.9751])\n"
     ]
    }
   ],
   "source": [
    "taille=100\n",
    "x = -0.99 * torch.ones(taille)\n",
    "for i in range(taille):\n",
    "    x[i]=x[i]+ (i * 1.985/(taille))\n",
    "print(x)"
   ]
  },
  {
   "cell_type": "code",
   "execution_count": 97,
   "metadata": {},
   "outputs": [
    {
     "name": "stdout",
     "output_type": "stream",
     "text": [
      "tensor([0.5487, 0.5652, 0.5814, 0.5975, 0.6133, 0.6288, 0.6441, 0.6592, 0.6740,\n",
      "        0.6885, 0.7028, 0.7168, 0.7305, 0.7439, 0.7570, 0.7698, 0.7823, 0.7945,\n",
      "        0.8064, 0.8180, 0.8293, 0.8402, 0.8508, 0.8611, 0.8710, 0.8806, 0.8898,\n",
      "        0.8987, 0.9072, 0.9154, 0.9232, 0.9306, 0.9377, 0.9444, 0.9508, 0.9567,\n",
      "        0.9623, 0.9675, 0.9724, 0.9768, 0.9809, 0.9845, 0.9878, 0.9907, 0.9932,\n",
      "        0.9953, 0.9970, 0.9984, 0.9993, 0.9998, 1.0000, 0.9998, 0.9991, 0.9981,\n",
      "        0.9966, 0.9948, 0.9926, 0.9900, 0.9870, 0.9836, 0.9799, 0.9757, 0.9712,\n",
      "        0.9662, 0.9609, 0.9553, 0.9492, 0.9428, 0.9360, 0.9288, 0.9213, 0.9134,\n",
      "        0.9051, 0.8965, 0.8875, 0.8782, 0.8685, 0.8585, 0.8482, 0.8375, 0.8265,\n",
      "        0.8151, 0.8035, 0.7915, 0.7792, 0.7666, 0.7537, 0.7405, 0.7270, 0.7133,\n",
      "        0.6992, 0.6849, 0.6703, 0.6554, 0.6403, 0.6249, 0.6093, 0.5935, 0.5774,\n",
      "        0.5610])\n"
     ]
    }
   ],
   "source": [
    "y = torch.cos(x) \n",
    "print(y) "
   ]
  },
  {
   "cell_type": "code",
   "execution_count": 98,
   "metadata": {},
   "outputs": [],
   "source": [
    "trainset = torch.utils.data.DataLoader(x, batch_size=8, shuffle=True)"
   ]
  },
  {
   "cell_type": "code",
   "execution_count": 99,
   "metadata": {},
   "outputs": [],
   "source": [
    "testset = torch.utils.data.DataLoader(y, batch_size=8, shuffle=False)"
   ]
  },
  {
   "cell_type": "code",
   "execution_count": 100,
   "metadata": {},
   "outputs": [
    {
     "name": "stdout",
     "output_type": "stream",
     "text": [
      "tensor([-0.9900, -0.9701, -0.9503, -0.9305, -0.9106, -0.8907, -0.8709, -0.8511,\n",
      "        -0.8312, -0.8113, -0.7915, -0.7717, -0.7518, -0.7320, -0.7121, -0.6923,\n",
      "        -0.6724, -0.6525, -0.6327, -0.6129, -0.5930, -0.5732, -0.5533, -0.5335,\n",
      "        -0.5136, -0.4938, -0.4739, -0.4541, -0.4342, -0.4144, -0.3945, -0.3747,\n",
      "        -0.3548, -0.3350, -0.3151, -0.2952, -0.2754, -0.2556, -0.2357, -0.2158,\n",
      "        -0.1960, -0.1762, -0.1563, -0.1364, -0.1166, -0.0968, -0.0769, -0.0570,\n",
      "        -0.0372, -0.0174,  0.0025,  0.0223,  0.0422,  0.0620,  0.0819,  0.1018,\n",
      "         0.1216,  0.1415,  0.1613,  0.1811,  0.2010,  0.2208,  0.2407,  0.2606,\n",
      "         0.2804,  0.3002,  0.3201,  0.3399,  0.3598,  0.3796,  0.3995,  0.4194,\n",
      "         0.4392,  0.4590,  0.4789,  0.4987,  0.5186,  0.5385,  0.5583,  0.5782,\n",
      "         0.5980,  0.6178,  0.6377,  0.6575,  0.6774,  0.6973,  0.7171,  0.7370,\n",
      "         0.7568,  0.7766,  0.7965,  0.8163,  0.8362,  0.8561,  0.8759,  0.8958,\n",
      "         0.9156,  0.9354,  0.9553,  0.9751])\n",
      "tensor([0.5487, 0.5652, 0.5814, 0.5975, 0.6133, 0.6288, 0.6441, 0.6592, 0.6740,\n",
      "        0.6885, 0.7028, 0.7168, 0.7305, 0.7439, 0.7570, 0.7698, 0.7823, 0.7945,\n",
      "        0.8064, 0.8180, 0.8293, 0.8402, 0.8508, 0.8611, 0.8710, 0.8806, 0.8898,\n",
      "        0.8987, 0.9072, 0.9154, 0.9232, 0.9306, 0.9377, 0.9444, 0.9508, 0.9567,\n",
      "        0.9623, 0.9675, 0.9724, 0.9768, 0.9809, 0.9845, 0.9878, 0.9907, 0.9932,\n",
      "        0.9953, 0.9970, 0.9984, 0.9993, 0.9998, 1.0000, 0.9998, 0.9991, 0.9981,\n",
      "        0.9966, 0.9948, 0.9926, 0.9900, 0.9870, 0.9836, 0.9799, 0.9757, 0.9712,\n",
      "        0.9662, 0.9609, 0.9553, 0.9492, 0.9428, 0.9360, 0.9288, 0.9213, 0.9134,\n",
      "        0.9051, 0.8965, 0.8875, 0.8782, 0.8685, 0.8585, 0.8482, 0.8375, 0.8265,\n",
      "        0.8151, 0.8035, 0.7915, 0.7792, 0.7666, 0.7537, 0.7405, 0.7270, 0.7133,\n",
      "        0.6992, 0.6849, 0.6703, 0.6554, 0.6403, 0.6249, 0.6093, 0.5935, 0.5774,\n",
      "        0.5610])\n"
     ]
    }
   ],
   "source": [
    "print (x)\n",
    "print (y)"
   ]
  },
  {
   "cell_type": "code",
   "execution_count": 101,
   "metadata": {},
   "outputs": [
    {
     "name": "stdout",
     "output_type": "stream",
     "text": [
      "<torch.utils.data.dataloader.DataLoader object at 0x7f1168fdc650>\n",
      "<torch.utils.data.dataloader.DataLoader object at 0x7f1168fdc1d0>\n"
     ]
    }
   ],
   "source": [
    "print (trainset)\n",
    "print (testset)"
   ]
  },
  {
   "cell_type": "code",
   "execution_count": 102,
   "metadata": {},
   "outputs": [],
   "source": [
    "import torch.nn as nn\n",
    "import torch.nn.functional as F #the activation function \n",
    "import numpy as np"
   ]
  },
  {
   "cell_type": "code",
   "execution_count": 103,
   "metadata": {
    "scrolled": true
   },
   "outputs": [
    {
     "name": "stdout",
     "output_type": "stream",
     "text": [
      "Net(\n",
      "  (fc1): Linear(in_features=1, out_features=8, bias=True)\n",
      "  (fc2): Linear(in_features=8, out_features=8, bias=True)\n",
      "  (fc3): Linear(in_features=8, out_features=1, bias=True)\n",
      ")\n"
     ]
    }
   ],
   "source": [
    "class Net(nn.Module):\n",
    "    def __init__(self):\n",
    "        super().__init__()\n",
    "        self.fc1 = nn.Linear(1, 8) #fc = fully connected layer , 28*28 number of input\n",
    "        self.fc2 = nn.Linear(8, 8)    #in our case there are 28*28 images as inputs    #ze are going to use 64 neuron per layer network \n",
    "        self.fc3 = nn.Linear(8, 1)    #10 is the number of outputs we gonna classify as (in this case 10 : from 0 to 9)\n",
    "    #where the flow of data is going through\n",
    "    \n",
    "    def forward(self, x):\n",
    "        x = F.sigmoid(self.fc1(x)) #relu stands for rectified linear\n",
    "        x = F.sigmoid(self.fc2(x))\n",
    "        x = self.fc3(x)#F.relu(self.fc3(x))\n",
    "        \n",
    "        return torch.sigmoid(x) #don't forget the activation function \n",
    "net = Net()\n",
    "print(net)"
   ]
  },
  {
   "cell_type": "code",
   "execution_count": 104,
   "metadata": {},
   "outputs": [
    {
     "name": "stdout",
     "output_type": "stream",
     "text": [
      "tensor([[0.1477]])\n",
      "tensor([[0.5657]], grad_fn=<SigmoidBackward>)\n"
     ]
    }
   ],
   "source": [
    "X = torch.rand(1)\n",
    "X = X.view(-1,1)\n",
    "print (X)\n",
    "output = net(X)\n",
    "print(output)"
   ]
  },
  {
   "cell_type": "code",
   "execution_count": 105,
   "metadata": {},
   "outputs": [
    {
     "name": "stdout",
     "output_type": "stream",
     "text": [
      "tensor([[0.9891]])\n"
     ]
    }
   ],
   "source": [
    "print(torch.cos(X))"
   ]
  },
  {
   "cell_type": "code",
   "execution_count": 112,
   "metadata": {},
   "outputs": [],
   "source": [
    "import torch.optim as optim\n",
    "\n",
    "loss_function = nn.MSELoss()#For these scalar classifications use crossEntropyLoss\n",
    "optimizer = optim.Adam(net.parameters(), lr=0.015) #the lr : learning rate as the \"size of steps\"\n",
    "\n"
   ]
  },
  {
   "cell_type": "code",
   "execution_count": 113,
   "metadata": {
    "scrolled": true
   },
   "outputs": [
    {
     "name": "stdout",
     "output_type": "stream",
     "text": [
      "tensor(0.0004, grad_fn=<MseLossBackward>)\n"
     ]
    }
   ],
   "source": [
    "for epoch in range(50): # 3 full passes over the data\n",
    "    for data in trainset: \n",
    "        X = data  # X is the batch of features, y is the batch of targets.\n",
    "        output = net(X.view(-1,1))\n",
    "        target = torch.cos(X)\n",
    "        target = target.view(-1,1).float()\n",
    "        loss = F.mse_loss(output,target)\n",
    "        optimizer.zero_grad()\n",
    "        loss.backward()\n",
    "        optimizer.step() \n",
    "print(loss) "
   ]
  },
  {
   "cell_type": "code",
   "execution_count": 114,
   "metadata": {},
   "outputs": [
    {
     "data": {
      "image/png": "[encoded data removed]",
      "text/plain": [
       "<Figure size 432x288 with 1 Axes>"
      ]
     },
     "metadata": {
      "needs_background": "light"
     },
     "output_type": "display_data"
    }
   ],
   "source": [
    "predictions = net(torch.Tensor(np.reshape(x, (-1,1))))\n",
    "plt.plot(x, y , x ,predictions.detach().numpy())\n",
    "plt.show()\n"
   ]
  },
  {
   "cell_type": "code",
   "execution_count": null,
   "metadata": {},
   "outputs": [],
   "source": []
  }
 ],
 "metadata": {
  "kernelspec": {
   "display_name": "Python 3",
   "language": "python",
   "name": "python3"
  },
  "language_info": {
   "codemirror_mode": {
    "name": "ipython",
    "version": 3
   },
   "file_extension": ".py",
   "mimetype": "text/x-python",
   "name": "python",
   "nbconvert_exporter": "python",
   "pygments_lexer": "ipython3",
   "version": "3.7.4"
  }
 },
 "nbformat": 4,
 "nbformat_minor": 2
}

