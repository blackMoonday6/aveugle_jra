{
 "cells": [
  {
   "cell_type": "code",
   "execution_count": 105,
   "metadata": {},
   "outputs": [],
   "source": [
    "import torch\n",
    "import torchvision\n",
    "import matplotlib.pyplot as plt"
   ]
  },
  {
   "cell_type": "code",
   "execution_count": 158,
   "metadata": {},
   "outputs": [
    {
     "name": "stdout",
     "output_type": "stream",
     "text": [
      "tensor([1.5700, 1.5850, 1.6000, 1.6150, 1.6300, 1.6450, 1.6600, 1.6750, 1.6900,\n",
      "        1.7050, 1.7200, 1.7350, 1.7500, 1.7650, 1.7800, 1.7950, 1.8100, 1.8250,\n",
      "        1.8400, 1.8550, 1.8700, 1.8850, 1.9000, 1.9150, 1.9300, 1.9450, 1.9600,\n",
      "        1.9750, 1.9900, 2.0050, 2.0200, 2.0350, 2.0500, 2.0650, 2.0800, 2.0950,\n",
      "        2.1100, 2.1250, 2.1400, 2.1550, 2.1700, 2.1850, 2.2000, 2.2150, 2.2300,\n",
      "        2.2450, 2.2600, 2.2750, 2.2900, 2.3050, 2.3200, 2.3350, 2.3500, 2.3650,\n",
      "        2.3800, 2.3950, 2.4100, 2.4250, 2.4400, 2.4550, 2.4700, 2.4850, 2.5000,\n",
      "        2.5150, 2.5300, 2.5450, 2.5600, 2.5750, 2.5900, 2.6050, 2.6200, 2.6350,\n",
      "        2.6500, 2.6650, 2.6800, 2.6950, 2.7100, 2.7250, 2.7400, 2.7550, 2.7700,\n",
      "        2.7850, 2.8000, 2.8150, 2.8300, 2.8450, 2.8600, 2.8750, 2.8900, 2.9050,\n",
      "        2.9200, 2.9350, 2.9500, 2.9650, 2.9800, 2.9950, 3.0100, 3.0250, 3.0400,\n",
      "        3.0550])\n"
     ]
    }
   ],
   "source": [
    "taille=100\n",
    "x = 1.57 * torch.ones(taille)\n",
    "for i in range(taille):\n",
    "    x[i]=x[i]+0.015*i\n",
    "print(x)"
   ]
  },
  {
   "cell_type": "code",
   "execution_count": 159,
   "metadata": {},
   "outputs": [],
   "source": [
    "trainset = torch.utils.data.DataLoader(x, batch_size=8, shuffle=True)"
   ]
  },
  {
   "cell_type": "code",
   "execution_count": 160,
   "metadata": {},
   "outputs": [
    {
     "name": "stdout",
     "output_type": "stream",
     "text": [
      "tensor([1.5700, 1.5850, 1.6000, 1.6150, 1.6300, 1.6450, 1.6600, 1.6750, 1.6900,\n",
      "        1.7050, 1.7200, 1.7350, 1.7500, 1.7650, 1.7800, 1.7950, 1.8100, 1.8250,\n",
      "        1.8400, 1.8550, 1.8700, 1.8850, 1.9000, 1.9150, 1.9300, 1.9450, 1.9600,\n",
      "        1.9750, 1.9900, 2.0050, 2.0200, 2.0350, 2.0500, 2.0650, 2.0800, 2.0950,\n",
      "        2.1100, 2.1250, 2.1400, 2.1550, 2.1700, 2.1850, 2.2000, 2.2150, 2.2300,\n",
      "        2.2450, 2.2600, 2.2750, 2.2900, 2.3050, 2.3200, 2.3350, 2.3500, 2.3650,\n",
      "        2.3800, 2.3950, 2.4100, 2.4250, 2.4400, 2.4550, 2.4700, 2.4850, 2.5000,\n",
      "        2.5150, 2.5300, 2.5450, 2.5600, 2.5750, 2.5900, 2.6050, 2.6200, 2.6350,\n",
      "        2.6500, 2.6650, 2.6800, 2.6950, 2.7100, 2.7250, 2.7400, 2.7550, 2.7700,\n",
      "        2.7850, 2.8000, 2.8150, 2.8300, 2.8450, 2.8600, 2.8750, 2.8900, 2.9050,\n",
      "        2.9200, 2.9350, 2.9500, 2.9650, 2.9800, 2.9950, 3.0100, 3.0250, 3.0400,\n",
      "        3.0550])\n",
      "tensor([1.0000, 0.9999, 0.9996, 0.9990, 0.9982, 0.9972, 0.9960, 0.9946, 0.9929,\n",
      "        0.9910, 0.9889, 0.9865, 0.9840, 0.9812, 0.9782, 0.9750, 0.9715, 0.9679,\n",
      "        0.9640, 0.9599, 0.9556, 0.9510, 0.9463, 0.9413, 0.9362, 0.9308, 0.9252,\n",
      "        0.9194, 0.9134, 0.9072, 0.9008, 0.8942, 0.8874, 0.8803, 0.8731, 0.8657,\n",
      "        0.8581, 0.8503, 0.8423, 0.8342, 0.8258, 0.8172, 0.8085, 0.7996, 0.7905,\n",
      "        0.7812, 0.7718, 0.7621, 0.7523, 0.7424, 0.7322, 0.7219, 0.7115, 0.7009,\n",
      "        0.6901, 0.6791, 0.6681, 0.6568, 0.6454, 0.6339, 0.6222, 0.6104, 0.5985,\n",
      "        0.5864, 0.5742, 0.5618, 0.5494, 0.5368, 0.5240, 0.5112, 0.4983, 0.4852,\n",
      "        0.4720, 0.4588, 0.4454, 0.4319, 0.4183, 0.4046, 0.3909, 0.3770, 0.3631,\n",
      "        0.3491, 0.3350, 0.3208, 0.3066, 0.2923, 0.2779, 0.2634, 0.2489, 0.2344,\n",
      "        0.2198, 0.2051, 0.1904, 0.1757, 0.1609, 0.1461, 0.1312, 0.1163, 0.1014,\n",
      "        0.0865])\n"
     ]
    }
   ],
   "source": [
    "print (x)\n",
    "y=torch.sin(x)\n",
    "print (y)"
   ]
  },
  {
   "cell_type": "code",
   "execution_count": 161,
   "metadata": {},
   "outputs": [
    {
     "name": "stdout",
     "output_type": "stream",
     "text": [
      "<torch.utils.data.dataloader.DataLoader object at 0x7fdcece00fd0>\n"
     ]
    }
   ],
   "source": [
    "print (trainset)"
   ]
  },
  {
   "cell_type": "code",
   "execution_count": 162,
   "metadata": {},
   "outputs": [],
   "source": [
    "import torch.nn as nn\n",
    "import torch.nn.functional as F #the activation function \n",
    "import numpy as np"
   ]
  },
  {
   "cell_type": "code",
   "execution_count": 163,
   "metadata": {
    "scrolled": true
   },
   "outputs": [
    {
     "name": "stdout",
     "output_type": "stream",
     "text": [
      "Net(\n",
      "  (fc1): Linear(in_features=1, out_features=8, bias=True)\n",
      "  (fc2): Linear(in_features=8, out_features=8, bias=True)\n",
      "  (fc3): Linear(in_features=8, out_features=1, bias=True)\n",
      ")\n"
     ]
    }
   ],
   "source": [
    "class Net(nn.Module):\n",
    "    def __init__(self):\n",
    "        super().__init__()\n",
    "        self.fc1 = nn.Linear(1, 8) #fc = fully connected layer , 28*28 number of input\n",
    "        self.fc2 = nn.Linear(8, 8)    #in our case there are 28*28 images as inputs    #ze are going to use 64 neuron per layer network \n",
    "        self.fc3 = nn.Linear(8, 1)    #10 is the number of outputs we gonna classify as (in this case 10 : from 0 to 9)\n",
    "    #where the flow of data is going through\n",
    "    \n",
    "    def forward(self, x):\n",
    "        x = F.sigmoid(self.fc1(x)) #relu stands for rectified linear\n",
    "        x = F.sigmoid(self.fc2(x))\n",
    "        x = self.fc3(x)#F.relu(self.fc3(x))\n",
    "        \n",
    "        return torch.sigmoid(x) #don't forget the activation function \n",
    "net = Net()\n",
    "print(net)"
   ]
  },
  {
   "cell_type": "code",
   "execution_count": 164,
   "metadata": {},
   "outputs": [
    {
     "name": "stdout",
     "output_type": "stream",
     "text": [
      "tensor([[0.9017]])\n",
      "tensor([[0.5200]], grad_fn=<SigmoidBackward>)\n"
     ]
    }
   ],
   "source": [
    "X = torch.rand(1)\n",
    "X = X.view(-1,1)\n",
    "print (X)\n",
    "output = net(X)\n",
    "print(output)"
   ]
  },
  {
   "cell_type": "code",
   "execution_count": 165,
   "metadata": {},
   "outputs": [
    {
     "name": "stdout",
     "output_type": "stream",
     "text": [
      "tensor([[0.6203]])\n"
     ]
    }
   ],
   "source": [
    "print(torch.sin(X))"
   ]
  },
  {
   "cell_type": "code",
   "execution_count": 166,
   "metadata": {},
   "outputs": [],
   "source": [
    "import torch.optim as optim\n",
    "\n",
    "loss_function = nn.MSELoss()#For these scalar classifications use crossEntropyLoss\n",
    "optimizer = optim.Adam(net.parameters(), lr=0.015) #the lr : learning rate as the \"size of steps\"\n",
    "\n"
   ]
  },
  {
   "cell_type": "code",
   "execution_count": 179,
   "metadata": {
    "scrolled": true
   },
   "outputs": [
    {
     "name": "stdout",
     "output_type": "stream",
     "text": [
      "tensor(0.0002, grad_fn=<MseLossBackward>)\n"
     ]
    }
   ],
   "source": [
    "for epoch in range(50): # 3 full passes over the data\n",
    "    for data in trainset: \n",
    "        X = data  # X is the batch of features, y is the batch of targets.\n",
    "        output = net(X.view(-1,1))\n",
    "        target = torch.sin(X)\n",
    "        target = target.view(-1,1).float()\n",
    "        loss = F.mse_loss(output,target)\n",
    "        optimizer.zero_grad()\n",
    "        loss.backward()\n",
    "        optimizer.step() \n",
    "print(loss) "
   ]
  },
  {
   "cell_type": "code",
   "execution_count": 180,
   "metadata": {},
   "outputs": [
    {
     "data": {
      "image/png": "[encoded data removed]",
      "text/plain": [
       "<Figure size 432x288 with 1 Axes>"
      ]
     },
     "metadata": {
      "needs_background": "light"
     },
     "output_type": "display_data"
    }
   ],
   "source": [
    "predictions = net(torch.Tensor(np.reshape(x, (-1,1))))\n",
    "plt.plot(x, y , x ,predictions.detach().numpy())\n",
    "plt.show()\n"
   ]
  },
  {
   "cell_type": "code",
   "execution_count": null,
   "metadata": {},
   "outputs": [],
   "source": []
  },
  {
   "cell_type": "code",
   "execution_count": null,
   "metadata": {},
   "outputs": [],
   "source": []
  },
  {
   "cell_type": "code",
   "execution_count": null,
   "metadata": {},
   "outputs": [],
   "source": []
  }
 ],
 "metadata": {
  "kernelspec": {
   "display_name": "Python 3",
   "language": "python",
   "name": "python3"
  },
  "language_info": {
   "codemirror_mode": {
    "name": "ipython",
    "version": 3
   },
   "file_extension": ".py",
   "mimetype": "text/x-python",
   "name": "python",
   "nbconvert_exporter": "python",
   "pygments_lexer": "ipython3",
   "version": "3.8.5"
  }
 },
 "nbformat": 4,
 "nbformat_minor": 2
}
