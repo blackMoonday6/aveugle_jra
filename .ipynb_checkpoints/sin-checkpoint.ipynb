{
 "cells": [
  {
   "cell_type": "code",
   "execution_count": 35,
   "metadata": {},
   "outputs": [],
   "source": [
    "import torch\n",
    "import torchvision\n",
    "import matplotlib.pyplot as plt"
   ]
  },
  {
   "cell_type": "code",
   "execution_count": 37,
   "metadata": {},
   "outputs": [
    {
     "name": "stdout",
     "output_type": "stream",
     "text": [
      "tensor([0.0000, 0.0314, 0.0628, 0.0942, 0.1256, 0.1570, 0.1884, 0.2198, 0.2512,\n",
      "        0.2826, 0.3140, 0.3454, 0.3768, 0.4082, 0.4396, 0.4710, 0.5024, 0.5338,\n",
      "        0.5652, 0.5966, 0.6280, 0.6594, 0.6908, 0.7222, 0.7536, 0.7850, 0.8164,\n",
      "        0.8478, 0.8792, 0.9106, 0.9420, 0.9734, 1.0048, 1.0362, 1.0676, 1.0990,\n",
      "        1.1304, 1.1618, 1.1932, 1.2246, 1.2560, 1.2874, 1.3188, 1.3502, 1.3816,\n",
      "        1.4130, 1.4444, 1.4758, 1.5072, 1.5386, 1.5700, 1.6014, 1.6328, 1.6642,\n",
      "        1.6956, 1.7270, 1.7584, 1.7898, 1.8212, 1.8526, 1.8840, 1.9154, 1.9468,\n",
      "        1.9782, 2.0096, 2.0410, 2.0724, 2.1038, 2.1352, 2.1666, 2.1980, 2.2294,\n",
      "        2.2608, 2.2922, 2.3236, 2.3550, 2.3864, 2.4178, 2.4492, 2.4806, 2.5120,\n",
      "        2.5434, 2.5748, 2.6062, 2.6376, 2.6690, 2.7004, 2.7318, 2.7632, 2.7946,\n",
      "        2.8260, 2.8574, 2.8888, 2.9202, 2.9516, 2.9830, 3.0144, 3.0458, 3.0772,\n",
      "        3.1086, 3.1400, 3.1714, 3.2028, 3.2342, 3.2656, 3.2970, 3.3284, 3.3598,\n",
      "        3.3912, 3.4226, 3.4540, 3.4854, 3.5168, 3.5482, 3.5796, 3.6110, 3.6424,\n",
      "        3.6738, 3.7052, 3.7366, 3.7680, 3.7994, 3.8308, 3.8622, 3.8936, 3.9250,\n",
      "        3.9564, 3.9878, 4.0192, 4.0506, 4.0820, 4.1134, 4.1448, 4.1762, 4.2076,\n",
      "        4.2390, 4.2704, 4.3018, 4.3332, 4.3646, 4.3960, 4.4274, 4.4588, 4.4902,\n",
      "        4.5216, 4.5530, 4.5844, 4.6158, 4.6472, 4.6786, 4.7100, 4.7414, 4.7728,\n",
      "        4.8042, 4.8356, 4.8670, 4.8984, 4.9298, 4.9612, 4.9926, 5.0240, 5.0554,\n",
      "        5.0868, 5.1182, 5.1496, 5.1810, 5.2124, 5.2438, 5.2752, 5.3066, 5.3380,\n",
      "        5.3694, 5.4008, 5.4322, 5.4636, 5.4950, 5.5264, 5.5578, 5.5892, 5.6206,\n",
      "        5.6520, 5.6834, 5.7148, 5.7462, 5.7776, 5.8090, 5.8404, 5.8718, 5.9032,\n",
      "        5.9346, 5.9660, 5.9974, 6.0288, 6.0602, 6.0916, 6.1230, 6.1544, 6.1858,\n",
      "        6.2172, 6.2486, 6.2800, 6.3114, 6.3428, 6.3742, 6.4056, 6.4370, 6.4684,\n",
      "        6.4998, 6.5312, 6.5626, 6.5940, 6.6254, 6.6568, 6.6882, 6.7196, 6.7510,\n",
      "        6.7824, 6.8138, 6.8452, 6.8766, 6.9080, 6.9394, 6.9708, 7.0022, 7.0336,\n",
      "        7.0650, 7.0964, 7.1278, 7.1592, 7.1906, 7.2220, 7.2534, 7.2848, 7.3162,\n",
      "        7.3476, 7.3790, 7.4104, 7.4418, 7.4732, 7.5046, 7.5360, 7.5674, 7.5988,\n",
      "        7.6302, 7.6616, 7.6930, 7.7244, 7.7558, 7.7872, 7.8186, 7.8500, 7.8814,\n",
      "        7.9128, 7.9442, 7.9756, 8.0070, 8.0384, 8.0698, 8.1012, 8.1326, 8.1640,\n",
      "        8.1954, 8.2268, 8.2582, 8.2896, 8.3210, 8.3524, 8.3838, 8.4152, 8.4466,\n",
      "        8.4780, 8.5094, 8.5408, 8.5722, 8.6036, 8.6350, 8.6664, 8.6978, 8.7292,\n",
      "        8.7606, 8.7920, 8.8234, 8.8548, 8.8862, 8.9176, 8.9490, 8.9804, 9.0118,\n",
      "        9.0432, 9.0746, 9.1060, 9.1374, 9.1688, 9.2002, 9.2316, 9.2630, 9.2944,\n",
      "        9.3258, 9.3572, 9.3886, 9.4200, 9.4514, 9.4828, 9.5142, 9.5456, 9.5770,\n",
      "        9.6084, 9.6398, 9.6712, 9.7026, 9.7340, 9.7654, 9.7968, 9.8282])\n"
     ]
    }
   ],
   "source": [
    "taille=314\n",
    "x = 0 * torch.ones(taille)\n",
    "for i in range(taille):\n",
    "    x[i]=x[i]+0.0314*i\n",
    "print(x)"
   ]
  },
  {
   "cell_type": "code",
   "execution_count": 38,
   "metadata": {},
   "outputs": [],
   "source": [
    "trainset = torch.utils.data.DataLoader(x, batch_size=8, shuffle=True)"
   ]
  },
  {
   "cell_type": "code",
   "execution_count": 40,
   "metadata": {},
   "outputs": [
    {
     "data": {
      "image/png": "[encoded data removed]",
      "text/plain": [
       "<Figure size 432x288 with 1 Axes>"
      ]
     },
     "metadata": {
      "needs_background": "light"
     },
     "output_type": "display_data"
    }
   ],
   "source": [
    "y=(torch.sin(x)/2)+1/2\n",
    "plt.plot(x,y)\n",
    "plt.show()"
   ]
  },
  {
   "cell_type": "code",
   "execution_count": 41,
   "metadata": {},
   "outputs": [
    {
     "name": "stdout",
     "output_type": "stream",
     "text": [
      "<torch.utils.data.dataloader.DataLoader object at 0x7f02d2c592e0>\n"
     ]
    }
   ],
   "source": [
    "print (trainset)"
   ]
  },
  {
   "cell_type": "code",
   "execution_count": 42,
   "metadata": {},
   "outputs": [],
   "source": [
    "import torch.nn as nn\n",
    "import torch.nn.functional as F #the activation function \n",
    "import numpy as np"
   ]
  },
  {
   "cell_type": "code",
   "execution_count": 43,
   "metadata": {
    "scrolled": true
   },
   "outputs": [
    {
     "name": "stdout",
     "output_type": "stream",
     "text": [
      "Net(\n",
      "  (fc1): Linear(in_features=1, out_features=8, bias=True)\n",
      "  (fc2): Linear(in_features=8, out_features=8, bias=True)\n",
      "  (fc3): Linear(in_features=8, out_features=1, bias=True)\n",
      ")\n"
     ]
    }
   ],
   "source": [
    "class Net(nn.Module):\n",
    "    def __init__(self):\n",
    "        super().__init__()\n",
    "        self.fc1 = nn.Linear(1, 8) #fc = fully connected layer , 28*28 number of input\n",
    "        self.fc2 = nn.Linear(8, 8)    #in our case there are 28*28 images as inputs    #ze are going to use 64 neuron per layer network \n",
    "        self.fc3 = nn.Linear(8, 1)    #10 is the number of outputs we gonna classify as (in this case 10 : from 0 to 9)\n",
    "    #where the flow of data is going through\n",
    "    \n",
    "    def forward(self, x):\n",
    "        x = F.sigmoid(self.fc1(x)) #relu stands for rectified linear\n",
    "        x = F.sigmoid(self.fc2(x))\n",
    "        x = self.fc3(x)#F.relu(self.fc3(x))\n",
    "        \n",
    "        return torch.sigmoid(x) #don't forget the activation function \n",
    "net = Net()\n",
    "print(net)"
   ]
  },
  {
   "cell_type": "code",
   "execution_count": 44,
   "metadata": {},
   "outputs": [
    {
     "name": "stdout",
     "output_type": "stream",
     "text": [
      "tensor([[0.2827]])\n",
      "tensor([[0.6429]], grad_fn=<SigmoidBackward>)\n"
     ]
    }
   ],
   "source": [
    "X = torch.rand(1)\n",
    "X = X.view(-1,1)\n",
    "print (X)\n",
    "output = net(X)\n",
    "print(output)"
   ]
  },
  {
   "cell_type": "code",
   "execution_count": 45,
   "metadata": {},
   "outputs": [
    {
     "name": "stdout",
     "output_type": "stream",
     "text": [
      "tensor([[0.2789]])\n"
     ]
    }
   ],
   "source": [
    "print(torch.sin(X))"
   ]
  },
  {
   "cell_type": "code",
   "execution_count": 51,
   "metadata": {},
   "outputs": [],
   "source": [
    "import torch.optim as optim\n",
    "\n",
    "loss_function = nn.CrossEntropyLoss()#For these scalar classifications use crossEntropyLoss\n",
    "optimizer = optim.Adam(net.parameters(), lr=0.015) #the lr : learning rate as the \"size of steps\"\n",
    "\n"
   ]
  },
  {
   "cell_type": "code",
   "execution_count": 60,
   "metadata": {
    "scrolled": true
   },
   "outputs": [
    {
     "name": "stdout",
     "output_type": "stream",
     "text": [
      "tensor(0.0002, grad_fn=<MseLossBackward>)\n"
     ]
    }
   ],
   "source": [
    "for epoch in range(50): # 3 full passes over the data\n",
    "    for data in trainset: \n",
    "        X = data  # X is the batch of features, y is the batch of targets.\n",
    "        output = net(X.view(-1,1))\n",
    "        target = (torch.sin(X)/2)+1/2\n",
    "        target = target.view(-1,1).float()\n",
    "        loss = F.mse_loss(output,target)\n",
    "        optimizer.zero_grad()\n",
    "        loss.backward()\n",
    "        optimizer.step() \n",
    "print(loss) "
   ]
  },
  {
   "cell_type": "code",
   "execution_count": 61,
   "metadata": {},
   "outputs": [
    {
     "data": {
      "image/png": "[encoded data removed]",
      "text/plain": [
       "<Figure size 432x288 with 1 Axes>"
      ]
     },
     "metadata": {
      "needs_background": "light"
     },
     "output_type": "display_data"
    }
   ],
   "source": [
    "predictions = net(torch.Tensor(np.reshape(x, (-1,1))))\n",
    "plt.plot(x, y,x,predictions.detach().numpy())\n",
    "plt.show()\n"
   ]
  },
  {
   "cell_type": "code",
   "execution_count": null,
   "metadata": {},
   "outputs": [],
   "source": []
  }
 ],
 "metadata": {
  "kernelspec": {
   "display_name": "Python 3",
   "language": "python",
   "name": "python3"
  },
  "language_info": {
   "codemirror_mode": {
    "name": "ipython",
    "version": 3
   },
   "file_extension": ".py",
   "mimetype": "text/x-python",
   "name": "python",
   "nbconvert_exporter": "python",
   "pygments_lexer": "ipython3",
   "version": "3.8.5"
  }
 },
 "nbformat": 4,
 "nbformat_minor": 2
}
